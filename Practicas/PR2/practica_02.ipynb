{
 "cells": [
  {
   "cell_type": "markdown",
   "metadata": {},
   "source": [
    "## Algoritmia\n",
    "### Práctica 2\n",
    "El objetivo de esta práctica es definir clases y realizar implementaciones básicas del tipo grafo."
   ]
  },
  {
   "cell_type": "markdown",
   "metadata": {},
   "source": [
    "Se pide la implementación de las clases y/o funciones que aparecen a continuación. \n",
    "\n",
    "Las instrucción \"pass\" que aparecen en el cuerdo de las clases o funciones, se debe sustituir por la implementación adecuada. \n",
    "\n",
    "Para cada clase o función que se pide se proporciona una o más funciones con algunos tests. \n",
    "\n",
    "Al llamar a las funciones de test no debería saltar ninguna aserción."
   ]
  },
  {
   "cell_type": "markdown",
   "metadata": {},
   "source": [
    "### Clase abstracta para Grafos"
   ]
  },
  {
   "cell_type": "code",
   "execution_count": 1,
   "metadata": {
    "collapsed": true
   },
   "outputs": [],
   "source": [
    "from abc import ABCMeta, abstractmethod\n",
    "\n",
    "class GrafoAbstracto(metaclass=ABCMeta):\n",
    "    \"\"\"Clase abstracta para trabajar con Grafos.\"\"\"\n",
    "    \n",
    "    def __init__(self, dirigido = False):\n",
    "        \"\"\"Constructor. El argumento indica si el grafo es dirigido\"\"\"\n",
    "        self._dirigido = dirigido\n",
    "\n",
    "    def dirigido(self):\n",
    "        \"\"\"Indica si el grafo es o no dirigido\"\"\"\n",
    "        return self._dirigido\n",
    "\n",
    "    @abstractmethod\n",
    "    def __len__( self ):\n",
    "        \"\"\"Número de nodos del grafo.\"\"\"\n",
    "        return \n",
    "\n",
    "    @abstractmethod\n",
    "    def num_arcos(self):\n",
    "        \"\"\"Devuelve el número de arcos\"\"\"\n",
    "\n",
    "    @abstractmethod       \n",
    "    def inserta(self, nodo, destino = None, etiqueta = 1):\n",
    "        \"\"\"\n",
    "        Inserta un nodo al grafo (si destino es None) o un arco.\n",
    "        Si el arco ya existía se actualiza su etiqueta.\n",
    "        Si alguno de los nodos del arco no está en el grafo, se inserta.\n",
    "        Se supone que None no es una etiqueta válida.\n",
    "        \"\"\"\n",
    "\n",
    "    @abstractmethod       \n",
    "    def __contains__(self, nodo):\n",
    "        \"\"\"Indica si el nodo está en el grafo.\"\"\"      \n",
    "        \n",
    "    @abstractmethod        \n",
    "    def __getitem__(self, arco):\n",
    "        \"\"\"Dado un arco (un par de nodos) devuelve la etiqueta si el arco está\n",
    "        en el grafo, en caso contrario devuelve None\"\"\"\n",
    "\n",
    "    @abstractmethod        \n",
    "    def __iter__(self):\n",
    "        \"\"\"Iterador sobre los nodos del grafo\"\"\"\n",
    "\n",
    "    @abstractmethod\n",
    "    def vecinos(self, origen):\n",
    "        \"\"\"Devuelve un iterable de los pares (destino,etiqueta) para un nodo \n",
    "        origen dado\"\"\""
   ]
  },
  {
   "cell_type": "markdown",
   "metadata": {},
   "source": [
    "### Implementación basada en matrices de adyacencia\n",
    "Realizamos una implementación basada en [matrices de adyacencia](https://youtu.be/t-FHxHnUEoc)"
   ]
  },
  {
   "cell_type": "code",
   "execution_count": 2,
   "metadata": {
    "collapsed": true
   },
   "outputs": [],
   "source": [
    "class GrafoMatriz(GrafoAbstracto):\n",
    "    \"\"\"\n",
    "    Implementación del tipo Grafo utilizando una matriz de adyacencia para \n",
    "    almacenar la información de los arcos.\n",
    "    La matriz podría ser una lista de lista.\n",
    "    \"\"\"\n",
    "    \n",
    "    \n",
    "    def __init__(self, dirigido = False):\n",
    "        \"\"\"Constructor. El argumento indica si el grafo es dirigido\"\"\"\n",
    "        self._dirigido = dirigido\n",
    "        self._nnodos=0\n",
    "        self._narcos=0\n",
    "        self._d=dict()\n",
    "        self._l=[]\n",
    "\n",
    "    def dirigido(self):\n",
    "        \"\"\"Indica si el grafo es o no dirigido\"\"\"\n",
    "        return self._dirigido\n",
    "    \n",
    "    def __len__(self):\n",
    "        return self._nnodos\n",
    "        #return 6\n",
    "    \n",
    "    \n",
    "    def num_arcos(self):\n",
    "        \"\"\"Devuelve el número de arcos\"\"\"\n",
    "        return self._narcos\n",
    "\n",
    "          \n",
    "    def inserta(self, nodo, destino = None, etiqueta = 1):\n",
    "        \"\"\"\n",
    "        Inserta un nodo al grafo (si destino es None) o un arco.\n",
    "        Si el arco ya existía se actualiza su etiqueta.\n",
    "        Si alguno de los nodos del arco no está en el grafo, se inserta.\n",
    "        Se supone que None no es una etiqueta válida.\n",
    "        \"\"\"\n",
    "        if destino is None:\n",
    "            tpl=(nodo)\n",
    "            self._d.setdefault(tpl,None)\n",
    "            self._l.append(nodo)\n",
    "            self._nnodos=self._nnodos+1\n",
    "        else:\n",
    "            tpl=(nodo,destino)\n",
    "            self._d.setdefault(tpl,etiqueta)\n",
    "            \n",
    "            if nodo not in self._l:\n",
    "                self._l.append(nodo)\n",
    "                self._nnodos=self._nnodos+1\n",
    "            if destino not in self._l:\n",
    "                self._l.append(destino)\n",
    "                self._nnodos=self._nnodos+1\n",
    "                \n",
    "            self._narcos=self._narcos+1\n",
    "            if self.dirigido() is False:\n",
    "                tpla=(destino,nodo)\n",
    "                self._d.setdefault(tpla,etiqueta)\n",
    "            \n",
    "    def __contains__(self, nodo):\n",
    "        \"\"\"Indica si el nodo está en el grafo.\"\"\" \n",
    "        #Es la funcion que se llama en if nodo in grafo\n",
    "        if nodo in self._d:\n",
    "            return True\n",
    "        else:\n",
    "            return False\n",
    "        \n",
    "           \n",
    "    def __getitem__(self, arco):\n",
    "        \"\"\"Dado un arco (un par de nodos) devuelve la etiqueta si el arco está\n",
    "        en el grafo, en caso contrario devuelve None\"\"\"\n",
    "        #assert grafo[nodo_m, nodo_n] == etiqueta\n",
    "        no=arco[0]#nodo origen\n",
    "        nd=arco[1]#nodo destino\n",
    "        tpl=(no,nd)\n",
    "        ret=self._d.get(tpl)\n",
    "        return ret\n",
    "\n",
    "            \n",
    "    def __iter__(self):\n",
    "        \"\"\"Iterador sobre los nodos del grafo\"\"\"\n",
    "        for ret in self._d:#ret va ser una tupla [norigen,ndestino], es decir, las claves\n",
    "            if self._d[ret] is None:\n",
    "                yield ret\n",
    "            \n",
    "    def vecinos(self, origen):\n",
    "        \"\"\"Devuelve un iterable de los pares (destino,etiqueta) para un nodo \n",
    "        origen dado\"\"\"\n",
    "        tpl=[]\n",
    "        for ret in self._d:\n",
    "            if origen in ret[0]:\n",
    "                t=(ret[1],self._d.get(ret))\n",
    "                tpl.append(t)\n",
    "        return tpl\n",
    "            \n",
    "    pass"
   ]
  },
  {
   "cell_type": "markdown",
   "metadata": {},
   "source": [
    "### Implementación basada en listas de adyacencia\n",
    "Realizamos una implementación basada en [listas de adyacencia](https://youtu.be/7cXY3ztIGjs)"
   ]
  },
  {
   "cell_type": "code",
   "execution_count": 3,
   "metadata": {
    "collapsed": true
   },
   "outputs": [],
   "source": [
    "class GrafoListas(GrafoAbstracto):\n",
    "    \"\"\"\n",
    "    Implementación del tipo Grafo utilizando listas de adyacencia.\n",
    "    Cada nodo tiene asociada una 'lista' con la información de los arcos que\n",
    "    salen del nodo. \n",
    "    Dicha lista no tinene que ser necesariamente del tipo 'list' de Python.\n",
    "    \"\"\"\n",
    "    \n",
    "\n",
    "    def __init__(self, dirigido = False):\n",
    "        \"\"\"Constructor. El argumento indica si el grafo es dirigido\"\"\"\n",
    "        self._dirigido = dirigido\n",
    "        self._arcos=0\n",
    "        self._nodos=0\n",
    "        self._diccionario ={}\n",
    "    \n",
    "    def dirigido(self):\n",
    "        \"\"\"Indica si el grafo es o no dirigido\"\"\"\n",
    "        return self._dirigido\n",
    "    \n",
    "    def __len__(self):\n",
    "        return len(self._diccionario)\n",
    "    \n",
    "    def num_arcos(self):\n",
    "        return self._arcos\n",
    "    \n",
    "    def inserta(self, nodo, destino = None, etiqueta = 1):\n",
    "        \"\"\"\n",
    "        Inserta un nodo al grafo (si destino es None) o un arco.\n",
    "        Si el arco ya existía se actualiza su etiqueta.\n",
    "        Si alguno de los nodos del arco no está en el grafo, se inserta.\n",
    "        Se supone que None no es una etiqueta válida.\n",
    "        \"\"\"\n",
    "        \n",
    "        if not nodo in self._diccionario:#Si el nodo no esta ya metido en el dicionario, lo metemos.\n",
    "            self._diccionario[nodo]=[]\n",
    "        if not destino  is None:\n",
    "            if not destino in self._diccionario: #Si el destino no es None, lo metemos\n",
    "                self._diccionario[destino]=[]\n",
    "\n",
    "            self._diccionario[nodo].append((destino,etiqueta)) #añadimos al nodo la tupla (destino,etiqueta),se crea el arco                \n",
    "            if self.dirigido() is False:\n",
    "                self._diccionario[destino].append((nodo,etiqueta))#añadimos al destino el arco con el nodo origen y la etiqueta\n",
    "\n",
    "            self._arcos=self._arcos+1\n",
    "        \n",
    "\n",
    "    def __contains__(self, nodo):\n",
    "        \"\"\"Indica si el nodo está en el grafo.\"\"\"      \n",
    "        if nodo in self._diccionario:\n",
    "            return True\n",
    "        else:\n",
    "            return False\n",
    "        \n",
    "    def __getitem__(self, arco):\n",
    "        \"\"\"Dado un arco (un par de nodos) devuelve la etiqueta si el arco está\n",
    "        en el grafo, en caso contrario devuelve None\"\"\"\n",
    "        ori=arco[0]\n",
    "        fin=arco[1]\n",
    "        if ori in self._diccionario:\n",
    "            for n in self._diccionario[ori]:\n",
    "                if fin == n[0]:\n",
    "                    return n[1]\n",
    "        \n",
    "    def __iter__(self):\n",
    "        \"\"\"Iterador sobre los nodos del grafo\"\"\"\n",
    "        return iter(self._diccionario)\n",
    "    \n",
    "    def vecinos(self, origen):\n",
    "        \"\"\"Devuelve un iterable de los pares (destino,etiqueta) para un nodo \n",
    "        origen dado\"\"\"\n",
    "        for n in self._diccionario[origen]: #Recorre todos los valores unidos al origen\n",
    "            yield n                         #Devuelve un primer valor y vuelve a devolver el siguiente hasta que acaba\n",
    "\n",
    "    pass"
   ]
  },
  {
   "cell_type": "markdown",
   "metadata": {},
   "source": [
    "### Casos de prueba"
   ]
  },
  {
   "cell_type": "code",
   "execution_count": 4,
   "metadata": {
    "collapsed": true
   },
   "outputs": [],
   "source": [
    "def test_grafo(grafo):\n",
    "    \"\"\"Función que prueba las funciones sobre grafos. Espera un grafo vacío.\"\"\"\n",
    "\n",
    "    num_final = 10  # número de nodos del grafo final\n",
    "    num_arcos = 0\n",
    "    conjunto_nodos = set()  # nodos que debería tener el grafo\n",
    "    conjunto_arcos = set()  # arcos que debería tener el grafo\n",
    "    \n",
    "    # Insertamos nodos y arcos en el grafo, comprobando que la información es \n",
    "    # coherente con lo que tenemos en conjunto_nodos y conjunto_arcos\n",
    "    for n in range(num_final):\n",
    "        assert len(grafo) == n\n",
    "        nodo_n = \"n\" + str(n)\n",
    "        grafo.inserta(nodo_n)\n",
    "        conjunto_nodos.add(nodo_n)\n",
    "        assert nodo_n in grafo \n",
    "        assert n not in grafo\n",
    "        \n",
    "        for m in range(n):\n",
    "            nodo_m = \"n\" + str(m)\n",
    "            etiqueta = num_final * n + m\n",
    "            grafo.inserta(nodo_m, nodo_n, etiqueta)\n",
    "            conjunto_arcos.add((nodo_m, nodo_n, etiqueta))\n",
    "            num_arcos += 1\n",
    "            assert num_arcos == grafo.num_arcos()\n",
    "            assert grafo[nodo_m, nodo_n] == etiqueta\n",
    "            if grafo.dirigido():\n",
    "                assert grafo[nodo_n, nodo_m] == None\n",
    "            else:\n",
    "                assert grafo[nodo_n, nodo_m] == etiqueta\n",
    "                conjunto_arcos.add((nodo_n, nodo_m, etiqueta))\n",
    "       \n",
    "    # Recorremos comproabando los nodos y para cada nodo sus vecinos\n",
    "    for nodo_n in grafo:\n",
    "        assert nodo_n in conjunto_nodos, nodo_n\n",
    "        conjunto_nodos.remove(nodo_n)\n",
    "        for nodo_m, etiqueta in grafo.vecinos(nodo_n):\n",
    "            assert (nodo_n, nodo_m, etiqueta) in conjunto_arcos\n",
    "            conjunto_arcos.remove((nodo_n, nodo_m, etiqueta))       \n",
    "   \n",
    "    # Comprobamos que hemos recorrido todos los nodos y arcos\n",
    "    assert len(conjunto_nodos) == 0,len(conjunto_nodos)\n",
    "    assert len(conjunto_arcos) == 0,len(conjunto_arcos)\n",
    "\n",
    "     "
   ]
  },
  {
   "cell_type": "code",
   "execution_count": 5,
   "metadata": {},
   "outputs": [
    {
     "name": "stdout",
     "output_type": "stream",
     "text": [
      "OK\n"
     ]
    }
   ],
   "source": [
    "if __name__ == \"__main__\":     \n",
    "    test_grafo(GrafoMatriz(False))\n",
    "    test_grafo(GrafoMatriz(True))\n",
    "    print(\"OK\")"
   ]
  },
  {
   "cell_type": "code",
   "execution_count": 6,
   "metadata": {},
   "outputs": [
    {
     "name": "stdout",
     "output_type": "stream",
     "text": [
      "OK\n"
     ]
    }
   ],
   "source": [
    "if __name__ == \"__main__\":     \n",
    "    test_grafo(GrafoListas(False))\n",
    "    test_grafo(GrafoListas(True))\n",
    "    print(\"OK\")"
   ]
  },
  {
   "cell_type": "code",
   "execution_count": 7,
   "metadata": {},
   "outputs": [
    {
     "name": "stdout",
     "output_type": "stream",
     "text": [
      "The slowest run took 5.23 times longer than the fastest. This could mean that an intermediate result is being cached.\n",
      "1000 loops, best of 3: 384 µs per loop\n",
      "1000 loops, best of 3: 257 µs per loop\n",
      "1000 loops, best of 3: 252 µs per loop\n",
      "10000 loops, best of 3: 198 µs per loop\n"
     ]
    }
   ],
   "source": [
    "\"\"\"\n",
    "Con %timeit podemos ver el tiempo necesario para ejecutar una línea.\n",
    "Puede ejecutarla múltiples veces para tener una mejor estimación.\n",
    "Con %%timeit obtenemos el tiempo de ejecución de una celda.\n",
    "\"\"\"\n",
    "if __name__ == \"__main__\":  \n",
    "    %timeit test_grafo(GrafoMatriz(False))\n",
    "    %timeit test_grafo(GrafoMatriz(True))\n",
    "    %timeit test_grafo(GrafoListas(False))\n",
    "    %timeit test_grafo(GrafoListas(True))"
   ]
  },
  {
   "cell_type": "code",
   "execution_count": null,
   "metadata": {
    "collapsed": true
   },
   "outputs": [],
   "source": []
  }
 ],
 "metadata": {
  "anaconda-cloud": {},
  "kernelspec": {
   "display_name": "Python 3",
   "language": "python",
   "name": "python3"
  },
  "language_info": {
   "codemirror_mode": {
    "name": "ipython",
    "version": 3
   },
   "file_extension": ".py",
   "mimetype": "text/x-python",
   "name": "python",
   "nbconvert_exporter": "python",
   "pygments_lexer": "ipython3",
   "version": "3.6.1"
  }
 },
 "nbformat": 4,
 "nbformat_minor": 1
}
